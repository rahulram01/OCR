{
  "cells": [
    {
      "cell_type": "code",
      "execution_count": 11,
      "metadata": {
        "colab": {
          "base_uri": "https://localhost:8080/",
          "height": 399
        },
        "id": "fcDorgHtfCxF",
        "outputId": "0f753188-7add-4c0a-c6bd-cb9e6ffb6ee8"
      },
      "outputs": [
        {
          "ename": "ModuleNotFoundError",
          "evalue": "No module named 'flask_session'",
          "output_type": "error",
          "traceback": [
            "\u001b[1;31m---------------------------------------------------------------------------\u001b[0m",
            "\u001b[1;31mModuleNotFoundError\u001b[0m                       Traceback (most recent call last)",
            "Cell \u001b[1;32mIn[11], line 3\u001b[0m\n\u001b[0;32m      1\u001b[0m \u001b[38;5;28;01mfrom\u001b[39;00m \u001b[38;5;21;01mflask\u001b[39;00m \u001b[38;5;28;01mimport\u001b[39;00m Flask, jsonify, session, request\n\u001b[0;32m      2\u001b[0m \u001b[38;5;28;01mfrom\u001b[39;00m \u001b[38;5;21;01mflask_cors\u001b[39;00m \u001b[38;5;28;01mimport\u001b[39;00m CORS\n\u001b[1;32m----> 3\u001b[0m \u001b[38;5;28;01mfrom\u001b[39;00m \u001b[38;5;21;01mflask_session\u001b[39;00m \u001b[38;5;28;01mimport\u001b[39;00m Session\n\u001b[0;32m      4\u001b[0m \u001b[38;5;28;01mfrom\u001b[39;00m \u001b[38;5;21;01mapp\u001b[39;00m\u001b[38;5;21;01m.\u001b[39;00m\u001b[38;5;21;01mconfig\u001b[39;00m \u001b[38;5;28;01mimport\u001b[39;00m ApplicationConfig\n\u001b[0;32m      5\u001b[0m \u001b[38;5;28;01mfrom\u001b[39;00m \u001b[38;5;21;01mapp\u001b[39;00m\u001b[38;5;21;01m.\u001b[39;00m\u001b[38;5;21;01mmodels\u001b[39;00m \u001b[38;5;28;01mimport\u001b[39;00m db, User, UserRole, Invoice, Supplier, Buyer\n",
            "\u001b[1;31mModuleNotFoundError\u001b[0m: No module named 'flask_session'"
          ]
        }
      ],
      "source": [
        "from flask import Flask, jsonify, session, request\n",
        "from flask_cors import CORS\n",
        "from flask_session import Session\n",
        "from app.config import ApplicationConfig\n",
        "from app.models import db, User, UserRole, Invoice, Supplier, Buyer\n",
        "from app.authentication import authentication_bp\n",
        "from app.preprocessing import preprocessing_bp\n",
        "from app.tesseractOCR import tesseract_bp\n",
        "from app.paddleOCR import paddleocr_bp\n",
        "from app.companyAPI import companyAPI_bp\n",
        "from app.organizations import organizations_bp\n",
        "from app.getData import getData_bp\n",
        "from flask_bcrypt import Bcrypt\n",
        "import logging\n",
        "import time\n",
        "# import pytesseract\n",
        "from PIL import Image\n",
        "import base64\n",
        "import io\n",
        "from app.invoice_processing import invoice_processing_bp\n",
        "\n",
        "\n",
        "\n",
        "app = Flask(__name__)\n",
        "app.config.from_object(ApplicationConfig)\n",
        "app.config.update(ENV='development')\n",
        "app.config['SESSION_SQLALCHEMY'] = db\n",
        "app.config['CORS_HEADERS'] = 'Content-Type'\n",
        "\n",
        "# Configure logging\n",
        "logging.basicConfig(level=logging.DEBUG)\n",
        "logger = logging.getLogger(__name__)\n",
        "\n",
        "CORS(app, origins='http://localhost:3000', supports_credentials=True)\n",
        "\n",
        "app.register_blueprint(authentication_bp)\n",
        "app.register_blueprint(preprocessing_bp)\n",
        "app.register_blueprint(tesseract_bp)\n",
        "# app.register_blueprint(paddleocr_bp)\n",
        "app.register_blueprint(companyAPI_bp)\n",
        "app.register_blueprint(organizations_bp)\n",
        "app.register_blueprint(getData_bp)\n",
        "app.register_blueprint(invoice_processing_bp)\n",
        "\n",
        "bcrypt = Bcrypt()\n",
        "server_session = Session(app)\n",
        "db.init_app(app)\n",
        "\n",
        "with app.app_context():\n",
        "    db.create_all()\n",
        "\n",
        "    admin_user = User.query.filter_by(email='admin').first()\n",
        "    if not admin_user:\n",
        "        hashed_password = bcrypt.generate_password_hash('admin').decode('utf-8')\n",
        "        admin_user = User(email='admin', name='Admin', password=hashed_password)\n",
        "        admin_user.role = UserRole.ADMIN\n",
        "        db.session.add(admin_user)\n",
        "        db.session.commit()\n",
        "\n",
        "@app.route(\"/@me\")\n",
        "def get_current_user():\n",
        "    try:\n",
        "        user_id = session.get(\"user_id\")\n",
        "\n",
        "        if not user_id:\n",
        "            return jsonify({\"error\": \"Unauthorized\"}), 401\n",
        "\n",
        "        user = User.query.get(user_id)\n",
        "\n",
        "        return jsonify({\n",
        "            \"name\": user.name,\n",
        "            \"email\": user.email,\n",
        "            \"role\": user.role.value\n",
        "        })\n",
        "    except Exception as e:\n",
        "        logger.error(f\"Error in /@me route: {str(e)}\")\n",
        "        return jsonify({\"error\": f\"Internal Server Error: {str(e)}\"}),\n",
        "\n",
        "@app.route(\"/edit-role\", methods=[\"POST\"])\n",
        "def edit_role():\n",
        "    try:\n",
        "        role = request.json[\"role\"]\n",
        "        user_id = request.json[\"user_id\"]\n",
        "\n",
        "        user = User.query.get(user_id)\n",
        "        user.role = UserRole[role]\n",
        "        db.session.commit()\n",
        "\n",
        "        return jsonify({\"success\": True}), 200\n",
        "    except Exception as e:\n",
        "        logger.error(f\"Error in /edit-role route: {str(e)}\")\n",
        "        return jsonify({\"error\": f\"Internal Server Error: {str(e)}\"}), 500\n",
        "\n",
        "@app.route(\"/update-user\", methods=[\"POST\"])\n",
        "def update_user():\n",
        "    user_id = session.get(\"user_id\")\n",
        "\n",
        "    if not user_id:\n",
        "        return jsonify({\"error\": \"Unauthorized\"}), 401\n",
        "\n",
        "    user = User.query.get(user_id)\n",
        "    user.name = request.json[\"name\"]\n",
        "    user.email = request.json[\"email\"]\n",
        "    db.session.commit()\n",
        "\n",
        "    return jsonify({\"success\": True}), 200\n",
        "\n",
        "@app.route('/delete-invoice', methods=['DELETE'])\n",
        "def delete_invoice():\n",
        "    invoice_id = request.args.get('id', type=int)\n",
        "\n",
        "    if not invoice_id:\n",
        "        return jsonify({\"error\": \"ID parameter is missing\"}), 400\n",
        "\n",
        "    invoice = Invoice.query.get(invoice_id)\n",
        "\n",
        "    if not invoice:\n",
        "        return jsonify({\"error\": \"Invoice not found\"}), 404\n",
        "\n",
        "    if invoice.supplier_id:\n",
        "        supplier = Supplier.query.get(invoice.supplier_id)\n",
        "        if supplier:\n",
        "            db.session.delete(supplier)\n",
        "\n",
        "    if invoice.buyer_id:\n",
        "        buyer = Buyer.query.get(invoice.buyer_id)\n",
        "        if buyer:\n",
        "            db.session.delete(buyer)\n",
        "\n",
        "    performance = invoice.performance\n",
        "\n",
        "    if performance:\n",
        "        db.session.delete(performance)\n",
        "\n",
        "    db.session.delete(invoice)\n",
        "    db.session.commit()\n",
        "\n",
        "    return jsonify({\"message\": f\"Invoice {invoice_id} has been deleted\"}), 200\n",
        "\n",
        "@app.route('/update-invoice', methods=['POST'])\n",
        "def update_invoice():\n",
        "    new_data = request.json[\"new_data\"]\n",
        "    invoice_id = new_data[\"id\"]\n",
        "\n",
        "    if not invoice_id:\n",
        "        return jsonify({\"error\": \"ID parameter is missing\"}), 400\n",
        "\n",
        "    invoice = Invoice.query.get(invoice_id)\n",
        "\n",
        "    if not invoice:\n",
        "        return jsonify({\"error\": \"Invoice not found\"}), 404\n",
        "\n",
        "    invoice.invoice_number = new_data.get(\"invoice_number\", invoice.invoice_number)\n",
        "    invoice.var_symbol = new_data.get(\"var_symbol\", invoice.var_symbol)\n",
        "    invoice.date_of_issue = new_data.get(\"date_of_issue\", invoice.date_of_issue)\n",
        "    invoice.due_date = new_data.get(\"due_date\", invoice.due_date)\n",
        "    invoice.delivery_date = new_data.get(\"delivery_date\", invoice.delivery_date)\n",
        "    invoice.payment_method = new_data.get(\"payment_method\", invoice.payment_method)\n",
        "    invoice.total_price = new_data.get(\"total_price\", invoice.total_price)\n",
        "    invoice.bank = new_data.get(\"bank\", invoice.bank)\n",
        "    invoice.swift = new_data.get(\"swift\", invoice.swift)\n",
        "    invoice.iban = new_data.get(\"iban\", invoice.iban)\n",
        "\n",
        "    supplier_data = new_data.get(\"supplier_data\", {})\n",
        "    if invoice.supplier:\n",
        "        invoice.supplier.ico = supplier_data.get(\"ICO\", invoice.supplier.ico)\n",
        "        invoice.supplier.name = supplier_data.get(\"Name\", invoice.supplier.name)\n",
        "        invoice.supplier.address = supplier_data.get(\"Street\", invoice.supplier.address)\n",
        "        invoice.supplier.psc = supplier_data.get(\"PSC\", invoice.supplier.psc)\n",
        "        invoice.supplier.city = supplier_data.get(\"City\", invoice.supplier.city)\n",
        "        invoice.supplier.dic = supplier_data.get(\"DIC\", invoice.supplier.dic)\n",
        "\n",
        "    buyer_data = new_data.get(\"buyer_data\", {})\n",
        "    if invoice.buyer:\n",
        "        invoice.buyer.ico = buyer_data.get(\"ICO\", invoice.buyer.ico)\n",
        "        invoice.buyer.name = buyer_data.get(\"Name\", invoice.buyer.name)\n",
        "        invoice.buyer.psc = buyer_data.get(\"PSC\", invoice.buyer.psc)\n",
        "        invoice.buyer.address = buyer_data.get(\"Street\", invoice.buyer.address)\n",
        "        invoice.buyer.city = buyer_data.get(\"City\", invoice.buyer.city)\n",
        "        invoice.buyer.dic = buyer_data.get(\"DIC\", invoice.buyer.dic)\n",
        "\n",
        "    db.session.commit()\n",
        "\n",
        "    return jsonify({\"message\": f\"Invoice has been updated\"}), 200\n",
        "\n",
        "# New route for OCR processing\n",
        "@app.route('/upload-and-process', methods=['POST'])\n",
        "def upload_and_process():\n",
        "    try:\n",
        "        # Check if file is present in the request\n",
        "        if 'file' not in request.files:\n",
        "            return jsonify({\"error\": \"No file uploaded\"}), 400\n",
        "\n",
        "        # Get the uploaded file\n",
        "        uploaded_file = request.files['file']\n",
        "\n",
        "        # Perform preprocessing\n",
        "        processed_image, preprocess_error = preprocess_image(uploaded_file)\n",
        "\n",
        "        # Check if preprocessing was successful\n",
        "        if processed_image is None:\n",
        "            return jsonify({\"error\": preprocess_error}), 400\n",
        "\n",
        "        # Perform OCR\n",
        "        ocr_text = perform_ocr(processed_image)\n",
        "\n",
        "        return jsonify({\n",
        "            \"success\": True,\n",
        "            \"ocr_text\": ocr_text\n",
        "        }), 200\n",
        "\n",
        "    except Exception as e:\n",
        "        return jsonify({\"error\": f\"Internal Server Error: {str(e)}\"}), 500\n",
        "\n",
        "\n",
        "import pytesseract\n",
        "from PIL import Image\n",
        "\n",
        "def generate_gemini_response(input_prompt, image_loc, question_prompts, output_file_path):\n",
        "    # Perform OCR using Tesseract on the specified image location\n",
        "    ocr_text = \"\"\n",
        "    try:\n",
        "        # Load the image\n",
        "        image = Image.open(image_loc)\n",
        "\n",
        "        # Perform OCR\n",
        "        ocr_text = pytesseract.image_to_string(image)\n",
        "    except Exception as e:\n",
        "        print(f\"Error during OCR processing: {str(e)}\")\n",
        "\n",
        "    # Here you would typically extract relevant information from the OCR text\n",
        "    # and format it as needed for further processing or storage\n",
        "    # For simplicity, let's just return the OCR text for now\n",
        "    return ocr_text\n",
        "\n",
        "if __name__ == '__main__':\n",
        "    app.debug = True\n",
        "    app.run(port=3000)\n"
      ]
    },
    {
      "cell_type": "code",
      "execution_count": null,
      "metadata": {
        "colab": {
          "base_uri": "https://localhost:8080/"
        },
        "id": "vHnsVU7PfsFV",
        "outputId": "314244fb-13e8-433b-9172-54a08c3b6810"
      },
      "outputs": [
        {
          "name": "stdout",
          "output_type": "stream",
          "text": [
            "Requirement already satisfied: flask_session in c:\\python312\\lib\\site-packages (0.6.0)\n",
            "Requirement already satisfied: flask>=2.2 in c:\\python312\\lib\\site-packages (from flask_session) (3.0.2)\n",
            "Requirement already satisfied: cachelib in c:\\python312\\lib\\site-packages (from flask_session) (0.10.2)\n",
            "Requirement already satisfied: Werkzeug>=3.0.0 in c:\\python312\\lib\\site-packages (from flask>=2.2->flask_session) (3.0.1)\n",
            "Requirement already satisfied: Jinja2>=3.1.2 in c:\\python312\\lib\\site-packages (from flask>=2.2->flask_session) (3.1.3)\n",
            "Requirement already satisfied: itsdangerous>=2.1.2 in c:\\python312\\lib\\site-packages (from flask>=2.2->flask_session) (2.1.2)\n",
            "Requirement already satisfied: click>=8.1.3 in c:\\python312\\lib\\site-packages (from flask>=2.2->flask_session) (8.1.7)\n",
            "Requirement already satisfied: blinker>=1.6.2 in c:\\python312\\lib\\site-packages (from flask>=2.2->flask_session) (1.7.0)\n",
            "Requirement already satisfied: colorama in c:\\python312\\lib\\site-packages (from click>=8.1.3->flask>=2.2->flask_session) (0.4.6)\n",
            "Requirement already satisfied: MarkupSafe>=2.0 in c:\\python312\\lib\\site-packages (from Jinja2>=3.1.2->flask>=2.2->flask_session) (2.1.5)\n"
          ]
        }
      ],
      "source": [
        "!pip install flask_session"
      ]
    },
    {
      "cell_type": "code",
      "execution_count": null,
      "metadata": {
        "colab": {
          "base_uri": "https://localhost:8080/"
        },
        "id": "YyOwhv2SfsMg",
        "outputId": "38e07316-b84f-48f3-af0d-3e877ec9258b"
      },
      "outputs": [
        {
          "name": "stdout",
          "output_type": "stream",
          "text": [
            "\u001b[31mERROR: Could not find a version that satisfies the requirement app.models (from versions: none)\u001b[0m\u001b[31m\n",
            "\u001b[0m\u001b[31mERROR: No matching distribution found for app.models\u001b[0m\u001b[31m\n",
            "\u001b[0m"
          ]
        }
      ],
      "source": [
        "# prompt:\n",
        "\n",
        "!pip install app.models --user\n"
      ]
    },
    {
      "cell_type": "code",
      "execution_count": null,
      "metadata": {
        "colab": {
          "base_uri": "https://localhost:8080/"
        },
        "id": "WfVcpgp3fsU0",
        "outputId": "ddcc8578-0ff1-4144-86ec-f1883234af30"
      },
      "outputs": [
        {
          "name": "stdout",
          "output_type": "stream",
          "text": [
            "\u001b[31mERROR: Could not find a version that satisfies the requirement app.preprocessing (from versions: none)\u001b[0m\u001b[31m\n",
            "\u001b[0m\u001b[31mERROR: No matching distribution found for app.preprocessing\u001b[0m\u001b[31m\n",
            "\u001b[0m"
          ]
        }
      ],
      "source": [
        "!pip install app.preprocessing"
      ]
    },
    {
      "cell_type": "code",
      "execution_count": null,
      "metadata": {
        "colab": {
          "base_uri": "https://localhost:8080/"
        },
        "id": "UJi9QyPvfJ2d",
        "outputId": "77d5e46e-aa3e-49a6-b246-d3cb76bb3525"
      },
      "outputs": [
        {
          "name": "stdout",
          "output_type": "stream",
          "text": [
            "Collecting app.config\n",
            "  Downloading app-config-1.0.1.tar.gz (3.1 kB)\n",
            "  Preparing metadata (setup.py) ... \u001b[?25l\u001b[?25hdone\n",
            "Collecting boto>=2.38.0 (from app.config)\n",
            "  Downloading boto-2.49.0-py2.py3-none-any.whl (1.4 MB)\n",
            "\u001b[2K     \u001b[90m━━━━━━━━━━━━━━━━━━━━━━━━━━━━━━━━━━━━━━━━\u001b[0m \u001b[32m1.4/1.4 MB\u001b[0m \u001b[31m14.7 MB/s\u001b[0m eta \u001b[36m0:00:00\u001b[0m\n",
            "\u001b[?25hBuilding wheels for collected packages: app.config\n",
            "  Building wheel for app.config (setup.py) ... \u001b[?25l\u001b[?25hdone\n",
            "  Created wheel for app.config: filename=app_config-1.0.1-py3-none-any.whl size=3588 sha256=1fd21619a934024d92810a12973a0ab2fbe73361c87eb52e93a6e8530884fc04\n",
            "  Stored in directory: /root/.cache/pip/wheels/37/be/5b/7b22316c38807899201b6ff9dd3cb4788423b34dae9d7bdd4f\n",
            "Successfully built app.config\n",
            "Installing collected packages: boto, app.config\n",
            "Successfully installed app.config-1.0.1 boto-2.49.0\n"
          ]
        }
      ],
      "source": [
        "!pip install app.config"
      ]
    }
  ],
  "metadata": {
    "colab": {
      "provenance": []
    },
    "kernelspec": {
      "display_name": "Python 3 (ipykernel)",
      "language": "python",
      "name": "python3"
    },
    "language_info": {
      "codemirror_mode": {
        "name": "ipython",
        "version": 3
      },
      "file_extension": ".py",
      "mimetype": "text/x-python",
      "name": "python",
      "nbconvert_exporter": "python",
      "pygments_lexer": "ipython3",
      "version": "3.10.7"
    }
  },
  "nbformat": 4,
  "nbformat_minor": 0
}
